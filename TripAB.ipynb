{
 "cells": [
  {
   "cell_type": "code",
   "execution_count": null,
   "metadata": {
    "id": "6-Gj5K6Vazp3"
   },
   "outputs": [],
   "source": [
    "import numpy as np\n",
    "import matplotlib.pyplot as plt\n",
    "from sklearn.preprocessing import StandardScaler\n",
    "import seaborn as sns\n",
    "from sklearn.metrics import mean_absolute_percentage_error, mean_squared_error\n",
    "import pandas as pd"
   ]
  },
  {
   "cell_type": "code",
   "execution_count": null,
   "metadata": {
    "colab": {
     "base_uri": "https://localhost:8080/",
     "height": 307
    },
    "id": "VkQr-kIFbD0W",
    "outputId": "c4660d13-3af0-471f-fd1a-e544f5bdae35"
   },
   "outputs": [],
   "source": [
    "df = pd.read_csv(\"merged_output.csv\", encoding=\"ISO-8859-1\")\n",
    "df.head()"
   ]
  },
  {
   "cell_type": "code",
   "execution_count": null,
   "metadata": {
    "colab": {
     "base_uri": "https://localhost:8080/",
     "height": 0
    },
    "id": "Cy6lfYpNfCIG",
    "outputId": "1da6e293-e0c9-4cc4-a07d-369a209fde22"
   },
   "outputs": [],
   "source": [
    "df.columns"
   ]
  },
  {
   "cell_type": "code",
   "execution_count": null,
   "metadata": {
    "colab": {
     "base_uri": "https://localhost:8080/",
     "height": 0
    },
    "id": "ZhymQW2TbD8C",
    "outputId": "bc7284ec-1122-42d0-b036-3e57d84d7841"
   },
   "outputs": [],
   "source": [
    "# prompt: Using dataframe df_no_outliers: train test split\n",
    "\n",
    "from sklearn.model_selection import train_test_split\n",
    "Features = [ 'Time [s]','Velocity [km/h]', 'Elevation [m]', 'Throttle [%]',\n",
    "       'Motor Torque [Nm]',\n",
    "        'Battery Voltage [V]',\n",
    "       'Battery Current [A]', 'Battery Temperature [Â°C]',\n",
    "        'max. SoC [%)',\n",
    "       'Requested Heating Power [W]', 'AirCon Power [kW]',\n",
    "       'Ambient Temperature [Â°C]',\n",
    "       'Heat Exchanger Temperature [Â°C]']\n",
    "DesiredOutput = ['SoC [%]']\n",
    "# Assuming 'df_no_outliers' is your DataFrame and 'Longitudinal Acceleration [m/s^2]' is your target variable\n",
    "X = df[Features]\n",
    "y = df[ DesiredOutput]\n",
    "\n",
    "# Split the data into training and testing sets\n",
    "X_train, X_test, y_train, y_test = train_test_split(X, y, test_size=0.2, random_state=42) # 80% train, 20% test\n",
    "\n",
    "# Print the shapes of the resulting sets to verify the split\n",
    "print(\"X_train shape:\", X_train.shape)\n",
    "print(\"y_train shape:\", y_train.shape)\n",
    "print(\"X_test shape:\", X_test.shape)\n",
    "print(\"y_test shape:\", y_test.shape)\n"
   ]
  },
  {
   "cell_type": "code",
   "execution_count": null,
   "metadata": {
    "colab": {
     "base_uri": "https://localhost:8080/",
     "height": 0
    },
    "id": "l6wZuGNxbnSe",
    "outputId": "d572070c-a1e7-4698-93e2-4c9243d4c287"
   },
   "outputs": [],
   "source": [
    "# prompt: scalarize X and Y\n",
    "\n",
    "import numpy as np\n",
    "from sklearn.preprocessing import StandardScaler\n",
    "\n",
    "# Assuming X_train, X_test, y_train, y_test are already defined as in your previous code\n",
    "\n",
    "# Initialize StandardScaler\n",
    "scaler_x = StandardScaler()\n",
    "scaler_y = StandardScaler()\n",
    "\n",
    "# Fit and transform the training data\n",
    "X_train_scaled = scaler_x.fit_transform(X_train)\n",
    "y_train_scaled = scaler_y.fit_transform(y_train)\n",
    "\n",
    "# Transform the testing data using the same scaler fitted on the training data\n",
    "X_test_scaled = scaler_x.transform(X_test)\n",
    "y_test_scaled = scaler_y.transform(y_test)\n",
    "\n",
    "# Now X_train_scaled, X_test_scaled, y_train_scaled, y_test_scaled contain the scaled data\n",
    "print(\"X_train_scaled shape:\", X_train_scaled.shape)\n",
    "print(\"y_train_scaled shape:\", y_train_scaled.shape)\n",
    "print(\"X_test_scaled shape:\", X_test_scaled.shape)\n",
    "print(\"y_test_scaled shape:\", y_test_scaled.shape)"
   ]
  },
  {
   "cell_type": "code",
   "execution_count": null,
   "metadata": {
    "colab": {
     "base_uri": "https://localhost:8080/",
     "height": 0
    },
    "id": "P36ZsKJWbD-C",
    "outputId": "ac3eb458-a47d-4a5b-e4d5-be3371f10969"
   },
   "outputs": [],
   "source": [
    "# prompt: Apply random forest also MAPE value of it\n",
    "\n",
    "from sklearn.ensemble import RandomForestRegressor\n",
    "from sklearn.metrics import mean_absolute_percentage_error\n",
    "\n",
    "# Initialize and train the RandomForestRegressor model\n",
    "rf_model = RandomForestRegressor(n_estimators=100, random_state=42)  # You can adjust n_estimators\n",
    "rf_model.fit(X_train_scaled, y_train_scaled)\n",
    "\n",
    "# Make predictions on the test set\n",
    "y_pred_rf = rf_model.predict(X_test_scaled)\n",
    "\n",
    "# Calculate the MAPE\n",
    "mape_rf = mean_absolute_percentage_error(y_test_scaled, y_pred_rf)\n",
    "print(f\"Mean Absolute Percentage Error (MAPE) for Random Forest: {mape_rf}\")\n",
    "\n",
    "rmse_rf = np.sqrt(mean_squared_error(y_test_scaled, y_pred_rf))\n",
    "print(f\"Root Mean Squared Error (RMSE) for Random Forest: {rmse_rf}\")\n",
    "\n",
    "# Calculate MSE\n",
    "mse_rf = mean_squared_error(y_test_scaled, y_pred_rf)\n",
    "print(f\"Mean Squared Error (MSE) for Random Forest: {mse_rf}\")"
   ]
  },
  {
   "cell_type": "code",
   "execution_count": null,
   "metadata": {
    "colab": {
     "base_uri": "https://localhost:8080/",
     "height": 0
    },
    "id": "gLxsQ1us3YsD",
    "outputId": "704214c4-af7c-400c-eeae-aa97f89901a4"
   },
   "outputs": [],
   "source": [
    "import pickle"
   ]
  },
  {
   "cell_type": "code",
   "execution_count": null,
   "metadata": {
    "id": "83K1LkoFOibe"
   },
   "outputs": [],
   "source": [
    "with open('rf_model.pkl', 'wb') as model_file:\n",
    "    pickle.dump(rf_model, model_file)"
   ]
  },
  {
   "cell_type": "code",
   "execution_count": null,
   "metadata": {
    "id": "6opm-oS7NXXN"
   },
   "outputs": [],
   "source": []
  }
 ],
 "metadata": {
  "colab": {
   "provenance": []
  },
  "kernelspec": {
   "display_name": "Python 3 (ipykernel)",
   "language": "python",
   "name": "python3"
  },
  "language_info": {
   "codemirror_mode": {
    "name": "ipython",
    "version": 3
   },
   "file_extension": ".py",
   "mimetype": "text/x-python",
   "name": "python",
   "nbconvert_exporter": "python",
   "pygments_lexer": "ipython3",
   "version": "3.12.7"
  }
 },
 "nbformat": 4,
 "nbformat_minor": 4
}
